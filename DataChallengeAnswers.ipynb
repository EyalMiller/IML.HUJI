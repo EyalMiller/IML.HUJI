{
  "nbformat": 4,
  "nbformat_minor": 0,
  "metadata": {
    "colab": {
      "name": "DataChallengeAnswers.ipynb",
      "provenance": [],
      "collapsed_sections": []
    },
    "kernelspec": {
      "name": "python3",
      "display_name": "Python 3"
    },
    "language_info": {
      "name": "python"
    }
  },
  "cells": [
    {
      "cell_type": "code",
      "execution_count": 1,
      "metadata": {
        "id": "CT5vPPH15QNb"
      },
      "outputs": [],
      "source": [
        "import pandas as pd\n",
        "import numpy as np\n",
        "import matplotlib.pyplot as plt\n",
        "from datetime import datetime\n",
        "from sklearn.linear_model import LogisticRegression\n",
        "from sklearn.model_selection import train_test_split"
      ]
    },
    {
      "cell_type": "code",
      "source": [
        "# read the data\n",
        "df = pd.read_csv(\"agoda_cancellation_train.csv\")\n",
        "\n",
        "# retract data\n",
        "is_cancelled = df['cancellation_datetime'].fillna(0)\n",
        "y = is_cancelled.where(is_cancelled == 0, 1).astype('int')\n",
        "\n",
        "# delete nan values\n",
        "y = y.drop(y[df['hotel_country_code'].isna()].index)\n",
        "df = df.drop(df[df['hotel_country_code'].isna()].index)\n",
        "y = y.drop(y[df['origin_country_code'].isna()].index)\n",
        "df = df.drop(df[df['origin_country_code'].isna()].index)\n",
        "for column in df.columns:\n",
        "  null_values = df[df[column].isna()]\n",
        "  if null_values.shape[0] > 0 and column != 'cancellation_datetime':\n",
        "    df[column] = df[column].fillna(0)\n",
        "\n",
        "# New dataframe with only relevant columns:\n",
        "\n",
        "# accommadation_type_name, charge_option, original_payment_type to dummies\n",
        "\n",
        "# might add original_payment_currency and general countries\n",
        "\n",
        "# is_first_booking and is_user_logged_in to 1,0\n",
        "\n",
        "First_MVP = df.copy()\n",
        "First_MVP = First_MVP.drop(['h_booking_id', 'hotel_live_date', 'h_customer_id', 'booking_datetime', 'checkin_date', 'checkout_date', 'hotel_id', \n",
        "                            'hotel_country_code', 'customer_nationality', 'guest_nationality_country_name', 'origin_country_code', 'language',\n",
        "                            'cancellation_datetime', 'hotel_area_code', 'hotel_brand_code', 'hotel_chain_code', 'hotel_city_code', 'original_payment_method', \n",
        "                            'original_payment_currency', 'cancellation_policy_code'],axis=1)\n",
        "\n",
        "\n",
        "# change to dummies:\n",
        "\n",
        "accommadation_type_name = First_MVP['accommadation_type_name']\n",
        "First_MVP = pd.concat([First_MVP, pd.get_dummies(accommadation_type_name)], axis=1)\n",
        "\n",
        "charge_option = First_MVP['charge_option']\n",
        "First_MVP = pd.concat([First_MVP, pd.get_dummies(charge_option)], axis=1)\n",
        "\n",
        "original_payment_type = First_MVP['original_payment_type']\n",
        "First_MVP = pd.concat([First_MVP, pd.get_dummies(original_payment_type)], axis=1)\n",
        "\n",
        "First_MVP = First_MVP.drop(['accommadation_type_name', 'charge_option', 'original_payment_type'],axis=1)\n",
        "\n",
        "# Change True/False to 1/0\n",
        "First_MVP['is_first_booking'] = First_MVP['is_first_booking'].where(First_MVP['is_first_booking'] != True, 1).astype('int')\n",
        "First_MVP['is_first_booking'] = First_MVP['is_first_booking'].where(First_MVP['is_first_booking'] == True, 0).astype('int')\n",
        "First_MVP['is_user_logged_in'] = First_MVP['is_user_logged_in'].where(First_MVP['is_user_logged_in'] != True, 1).astype('int')\n",
        "First_MVP['is_user_logged_in'] = First_MVP['is_user_logged_in'].where(First_MVP['is_user_logged_in'] == True, 0).astype('int')"
      ],
      "metadata": {
        "id": "Y3rCcS0755Ll"
      },
      "execution_count": null,
      "outputs": []
    },
    {
      "cell_type": "code",
      "source": [
        "# TEST HANDLING:\n",
        "\n",
        "# read the data\n",
        "df_test = pd.read_csv(\"test_set_week_1.csv\")\n",
        "\n",
        "# retract data\n",
        "\n",
        "# delete nan values\n",
        "df_test = df_test.drop(df_test[df_test['hotel_country_code'].isna()].index)\n",
        "df_test = df_test.drop(df_test[df_test['origin_country_code'].isna()].index)\n",
        "for column in df_test.columns:\n",
        "  null_values = df_test[df_test[column].isna()]\n",
        "  if null_values.shape[0] > 0 and column != 'cancellation_datetime':\n",
        "    df_test[column] = df_test[column].fillna(0)\n",
        "\n",
        "# New dataframe with only relevant columns:\n",
        "\n",
        "# accommadation_type_name, charge_option, original_payment_type to dummies\n",
        "\n",
        "# might add original_payment_currency and general countries\n",
        "\n",
        "# is_first_booking and is_user_logged_in to 1,0\n",
        "\n",
        "test_data = df_test.copy()\n",
        "test_data = test_data.drop(['h_booking_id', 'hotel_live_date', 'h_customer_id', 'booking_datetime', 'checkin_date', 'checkout_date', 'hotel_id', \n",
        "                            'hotel_country_code', 'customer_nationality', 'guest_nationality_country_name', 'origin_country_code', 'language',\n",
        "                            'hotel_area_code', 'hotel_brand_code', 'hotel_chain_code', 'hotel_city_code', 'original_payment_method', \n",
        "                            'original_payment_currency', 'cancellation_policy_code'],axis=1)\n",
        "\n",
        "\n",
        "# change to dummies:\n",
        "\n",
        "accommadation_type_name = test_data['accommadation_type_name']\n",
        "test_data = pd.concat([test_data, pd.get_dummies(accommadation_type_name)], axis=1)\n",
        "\n",
        "charge_option = test_data['charge_option']\n",
        "test_data = pd.concat([test_data, pd.get_dummies(charge_option)], axis=1)\n",
        "\n",
        "original_payment_type = test_data['original_payment_type']\n",
        "test_data = pd.concat([test_data, pd.get_dummies(original_payment_type)], axis=1)\n",
        "\n",
        "test_data = test_data.drop(['accommadation_type_name', 'charge_option', 'original_payment_type'],axis=1)\n",
        "\n",
        "# Change True/False to 1/0\n",
        "test_data['is_first_booking'] = test_data['is_first_booking'].where(First_MVP['is_first_booking'] != True, 1).astype('int')\n",
        "test_data['is_first_booking'] = test_data['is_first_booking'].where(First_MVP['is_first_booking'] == True, 0).astype('int')\n",
        "test_data['is_user_logged_in'] = test_data['is_user_logged_in'].where(First_MVP['is_user_logged_in'] != True, 1).astype('int')\n",
        "test_data['is_user_logged_in'] = test_data['is_user_logged_in'].where(First_MVP['is_user_logged_in'] == True, 0).astype('int')\n",
        "\n",
        "# Fill dummies with \"0\" if they don't exist in the test data:\n",
        "\n",
        "for column in First_MVP.columns:\n",
        "  if column not in test_data.columns:\n",
        "    false_array = [False] * test_data.shape[0]\n",
        "    test_data[column] = test_data['is_first_booking'].where(false_array, 0).astype('int')"
      ],
      "metadata": {
        "id": "qteSQI0x58uT"
      },
      "execution_count": null,
      "outputs": []
    },
    {
      "cell_type": "code",
      "source": [
        "logisticRegr = LogisticRegression()\n",
        "logisticRegr.fit(First_MVP, y)"
      ],
      "metadata": {
        "id": "su9yrKZd59PM"
      },
      "execution_count": null,
      "outputs": []
    },
    {
      "cell_type": "code",
      "source": [
        "result = logisticRegr.predict(test_data)\n",
        "result_df = pd.DataFrame(result)\n",
        "result_df.to_csv(\"path/to/file.csv\") # Of course there will be two columns so we deleted the one for indexes..."
      ],
      "metadata": {
        "id": "IhDw9_Hm5_94"
      },
      "execution_count": null,
      "outputs": []
    }
  ]
}